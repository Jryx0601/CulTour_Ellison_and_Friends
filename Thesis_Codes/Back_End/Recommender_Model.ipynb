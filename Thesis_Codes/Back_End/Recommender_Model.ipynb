{
 "cells": [
  {
   "cell_type": "code",
   "execution_count": 6,
   "metadata": {},
   "outputs": [],
   "source": [
    "import pandas as pd\n",
    "import numpy as np\n",
    "import nltk\n",
    "import re\n",
    "from sklearn.feature_extraction.text import TfidfVectorizer\n",
    "from sklearn.preprocessing import LabelEncoder, OneHotEncoder, MultiLabelBinarizer\n",
    "from sklearn.metrics.pairwise import cosine_similarity"
   ]
  },
  {
   "cell_type": "code",
   "execution_count": 7,
   "metadata": {},
   "outputs": [],
   "source": [
    "#Tourist Attraction Dataset\n",
    "data_Attraction = pd.read_excel('Baguio_Dataset_Version2.xlsx', sheet_name='Tourist Attraction')\n",
    "data_Attraction_selected = data_Attraction[['Place_ID','Name','Category']]"
   ]
  },
  {
   "cell_type": "code",
   "execution_count": 8,
   "metadata": {},
   "outputs": [],
   "source": [
    "#Restaurant\n",
    "data_restaurant = pd.read_excel('Baguio_Dataset_Version2.xlsx', sheet_name='Restaurant')\n",
    "data_restaurant_selected = data_restaurant[['Restaurant_ID','Name','Cuisine Type']]"
   ]
  },
  {
   "cell_type": "code",
   "execution_count": 9,
   "metadata": {},
   "outputs": [],
   "source": [
    "#For Training a model and getting recommendation system\n",
    "class recommendation_model:\n",
    "    def __init__(self):\n",
    "        self.vectorizer = TfidfVectorizer()\n",
    "    def fit(self,places,categories):\n",
    "        self.places = places\n",
    "        self.categories = categories\n",
    "        #Train the model to make cosine similarity with the help of vectorizer\n",
    "        self.tfidf_matrix = self.vectorizer.fit_transform(categories)\n",
    "        #It calculates the cosine similarity between all category vectors\n",
    "        self.cosine_sim = cosine_similarity(self.tfidf_matrix)\n",
    "    def get_recommendation(self,place_index,n_recommendation = 5):\n",
    "        target_category = self.categories[place_index]\n",
    "        sim_scores = []\n",
    "        #places_index it should be the index of the places\n",
    "        #Only include items with matching categories\n",
    "        #It doesnt include the target\n",
    "        for idx, category in enumerate(self.categories):\n",
    "            if category == target_category and idx != place_index:\n",
    "                sim_scores.append((idx, self.cosine_sim[place_index][idx]))\n",
    "                \n",
    "        sim_scores = sorted(sim_scores, key=lambda x: x[1], reverse=True)\n",
    "        sim_scores = sim_scores[:n_recommendation]\n",
    "        item_indices = [i[0] for i in sim_scores]\n",
    "        return self.places[item_indices]"
   ]
  },
  {
   "cell_type": "code",
   "execution_count": 10,
   "metadata": {},
   "outputs": [
    {
     "name": "stdout",
     "output_type": "stream",
     "text": [
      "['GOODTASTE RESTAURANT', 'Canto', 'Oh My Gulay', 'Secret Garden', 'Red Rustkilz']\n"
     ]
    }
   ],
   "source": [
    "#Train the two model\n",
    "\"\"\"\n",
    "Notes in this code:\n",
    "index of the places when the user interact to the place it returns the index number of the place\n",
    "\"\"\"\n",
    "#Tourist Attraction\n",
    "Tourist = recommendation_model()\n",
    "Tourist.fit(data_Attraction_selected['Name'],data_Attraction_selected['Category'])\n",
    "#Restaurant Recommendation\n",
    "Restaurant = recommendation_model()\n",
    "Restaurant.fit(data_restaurant_selected['Name'],data_restaurant_selected['Cuisine Type'])\n",
    "target = 3\n",
    "sample = list(Restaurant.get_recommendation(target))\n",
    "print(sample)"
   ]
  },
  {
   "cell_type": "markdown",
   "metadata": {},
   "source": [
    "Notes in Applying Recommedation System:\n",
    "1. When the user click the places below of the places are the recommended with same topic or category\n"
   ]
  }
 ],
 "metadata": {
  "kernelspec": {
   "display_name": "Python 3",
   "language": "python",
   "name": "python3"
  },
  "language_info": {
   "codemirror_mode": {
    "name": "ipython",
    "version": 3
   },
   "file_extension": ".py",
   "mimetype": "text/x-python",
   "name": "python",
   "nbconvert_exporter": "python",
   "pygments_lexer": "ipython3",
   "version": "3.12.7"
  }
 },
 "nbformat": 4,
 "nbformat_minor": 2
}
