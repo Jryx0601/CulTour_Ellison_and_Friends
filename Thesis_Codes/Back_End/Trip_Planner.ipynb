{
 "cells": [
  {
   "cell_type": "code",
   "execution_count": 49,
   "metadata": {},
   "outputs": [],
   "source": [
    "import pandas as pd\n",
    "import random\n",
    "from sklearn.feature_extraction.text import TfidfVectorizer\n",
    "from sklearn.metrics.pairwise import cosine_similarity"
   ]
  },
  {
   "cell_type": "code",
   "execution_count": 50,
   "metadata": {},
   "outputs": [],
   "source": [
    "#Tourist Attraction Dataset\n",
    "data_Attraction = pd.read_excel('Baguio_Dataset_Version2.xlsx', sheet_name='Tourist Attraction')\n",
    "data_Attraction_selected = data_Attraction[['Place_ID','Name','Category']]"
   ]
  },
  {
   "cell_type": "code",
   "execution_count": 51,
   "metadata": {},
   "outputs": [],
   "source": [
    "#Restaurant\n",
    "data_restaurant = pd.read_excel('Baguio_Dataset_Version2.xlsx', sheet_name='Restaurant')\n",
    "data_restaurant_selected = data_restaurant[['Restaurant_ID','Name','Cuisine Type']]"
   ]
  },
  {
   "cell_type": "code",
   "execution_count": 52,
   "metadata": {},
   "outputs": [],
   "source": [
    "class trip_planner_generator:\n",
    "    def __init__(self,target,categories):\n",
    "        self.target = target\n",
    "        self.categories = categories \n",
    "\n",
    "    def randomizer_places(self,array):\n",
    "        random.shuffle(array)\n",
    "        return array\n",
    "\n",
    "    def category_finder(self,type,n_recommendation):\n",
    "        places = []\n",
    "        #idx is the index number of the categories in order to find the name\n",
    "        for idx,values in enumerate(self.categories):\n",
    "            if self.target == values and type == 'Tourist':\n",
    "                places.append(data_Attraction_selected['Name'][idx])\n",
    "            elif self.target == values and type == 'Restaurant':\n",
    "                places.append(data_restaurant_selected['Name'][idx])\n",
    "\n",
    "        #Needs to randomize\n",
    "        places = self.randomizer_places(places)\n",
    "        return places[:n_recommendation]"
   ]
  },
  {
   "cell_type": "code",
   "execution_count": 53,
   "metadata": {},
   "outputs": [],
   "source": [
    "def trip_planner(tourist_Attaraction,Restaurant):\n",
    "    pattern = []\n",
    "    place_generated = []\n",
    "\n",
    "    if len(tourist_Attaraction) == 3 and len(Restaurant) == 2:\n",
    "        pattern = ['Attraction','Attraction','Restaurant','Attraction','Restaurant']\n",
    "    elif len(tourist_Attaraction) < 3:\n",
    "        if len(tourist_Attaraction) == 2 and len(Restaurant) == 2:\n",
    "            pattern = ['Attraction','Restaurant','Attraction','Restaurant']\n",
    "\n",
    "    Tourist_Attraction_Number = 0\n",
    "    Restaurant_Number = 0\n",
    "    for x in range(len(pattern)):\n",
    "        if pattern[x] == 'Attraction' and Tourist_Attraction_Number < len(tourist_Attaraction):\n",
    "            place_generated.append(tourist_Attaraction[Tourist_Attraction_Number])\n",
    "            Tourist_Attraction_Number += 1\n",
    "        elif pattern[x] == 'Restaurant' and Restaurant_Number < len(Restaurant):\n",
    "            place_generated.append(Restaurant[Restaurant_Number])\n",
    "            Restaurant_Number += 1\n",
    "    return place_generated"
   ]
  },
  {
   "cell_type": "code",
   "execution_count": 54,
   "metadata": {},
   "outputs": [
    {
     "name": "stdout",
     "output_type": "stream",
     "text": [
      "['Baguio Night Market', \"Joseph's\", 'Session Road', \"Hernan's Kitchen\"]\n"
     ]
    }
   ],
   "source": [
    "#sample implementation\n",
    "#User input \n",
    "target_tourist = 'Shopping'\n",
    "target_Restaurant = 'Filipino'\n",
    "\n",
    "#insert the data\n",
    "Tourist = trip_planner_generator(target_tourist,data_Attraction_selected['Category'])\n",
    "Restaurant = trip_planner_generator(target_Restaurant, data_restaurant_selected['Cuisine Type'])\n",
    "\n",
    "#Insert the number for pattern in trip planner\n",
    "Tourist_Suggestion = Tourist.category_finder('Tourist',3)\n",
    "Restaurant_Suggestion = Restaurant.category_finder('Restaurant',2)\n",
    "\n",
    "#Get the generated place\n",
    "final_generated = trip_planner(Tourist_Suggestion,Restaurant_Suggestion)\n",
    "print(final_generated)"
   ]
  }
 ],
 "metadata": {
  "kernelspec": {
   "display_name": "Python 3",
   "language": "python",
   "name": "python3"
  },
  "language_info": {
   "codemirror_mode": {
    "name": "ipython",
    "version": 3
   },
   "file_extension": ".py",
   "mimetype": "text/x-python",
   "name": "python",
   "nbconvert_exporter": "python",
   "pygments_lexer": "ipython3",
   "version": "3.12.7"
  }
 },
 "nbformat": 4,
 "nbformat_minor": 2
}
